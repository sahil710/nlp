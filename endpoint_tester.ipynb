{
 "cells": [
  {
   "cell_type": "code",
   "execution_count": 26,
   "metadata": {},
   "outputs": [
    {
     "name": "stdout",
     "output_type": "stream",
     "text": [
      "Testing http://127.0.0.1:8080/\n",
      "Status code...200\n",
      "\n",
      "\n",
      "Testing http://127.0.0.1:8080/result\n",
      "Status code...200\n",
      "html contains the expected result\n"
     ]
    }
   ],
   "source": [
    "import requests\n",
    "\n",
    "HOST = \"http://127.0.0.1:8080\"\n",
    "RESULT = \"Joy &amp; pride\"\n",
    "INPUT_TEXT = \"happy\"\n",
    "\n",
    "\n",
    "def test_endpoint(endpoint, params={}):\n",
    "    print(\"Testing \" + endpoint)\n",
    "    response = requests.get(endpoint, params=params)\n",
    "    print(\"Status code...\" + str(response.status_code))\n",
    "    return response\n",
    "\n",
    "\n",
    "def test_index_endpoint():\n",
    "    test_endpoint(HOST + \"/\")\n",
    "\n",
    "\n",
    "def test_result_endpoint():\n",
    "    response = test_endpoint(HOST + \"/result\", {\"input-text\": INPUT_TEXT})\n",
    "    res_html = response.text\n",
    "    if RESULT in res_html:\n",
    "        print(\"html contains the expected result\")\n",
    "    else:\n",
    "        print(\"html does not contain the expected result\")\n",
    "\n",
    "\n",
    "test_index_endpoint()\n",
    "print(\"\\n\")\n",
    "test_result_endpoint()\n"
   ]
  }
 ],
 "metadata": {
  "kernelspec": {
   "display_name": "Python 3",
   "language": "python",
   "name": "python3"
  },
  "language_info": {
   "codemirror_mode": {
    "name": "ipython",
    "version": 3
   },
   "file_extension": ".py",
   "mimetype": "text/x-python",
   "name": "python",
   "nbconvert_exporter": "python",
   "pygments_lexer": "ipython3",
   "version": "3.10.6"
  },
  "orig_nbformat": 4
 },
 "nbformat": 4,
 "nbformat_minor": 2
}
